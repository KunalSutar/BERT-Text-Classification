{
 "cells": [
  {
   "cell_type": "code",
   "execution_count": 1,
   "id": "48e08fac",
   "metadata": {},
   "outputs": [
    {
     "name": "stdout",
     "output_type": "stream",
     "text": [
      "Requirement already satisfied: transformers in c:\\users\\kunal\\appdata\\local\\programs\\python\\python310\\lib\\site-packages (4.39.3)\n",
      "Requirement already satisfied: datasets in c:\\users\\kunal\\appdata\\local\\programs\\python\\python310\\lib\\site-packages (2.18.0)\n",
      "Requirement already satisfied: accelerate in c:\\users\\kunal\\appdata\\local\\programs\\python\\python310\\lib\\site-packages (0.30.1)\n",
      "Requirement already satisfied: evaluate in c:\\users\\kunal\\appdata\\local\\programs\\python\\python310\\lib\\site-packages (0.4.2)\n",
      "Requirement already satisfied: filelock in c:\\users\\kunal\\appdata\\local\\programs\\python\\python310\\lib\\site-packages (from transformers) (3.13.1)\n",
      "Requirement already satisfied: huggingface-hub<1.0,>=0.19.3 in c:\\users\\kunal\\appdata\\local\\programs\\python\\python310\\lib\\site-packages (from transformers) (0.20.2)\n",
      "Requirement already satisfied: numpy>=1.17 in c:\\users\\kunal\\appdata\\local\\programs\\python\\python310\\lib\\site-packages (from transformers) (1.24.4)\n",
      "Requirement already satisfied: packaging>=20.0 in c:\\users\\kunal\\appdata\\local\\programs\\python\\python310\\lib\\site-packages (from transformers) (23.2)\n",
      "Requirement already satisfied: pyyaml>=5.1 in c:\\users\\kunal\\appdata\\local\\programs\\python\\python310\\lib\\site-packages (from transformers) (6.0)\n",
      "Requirement already satisfied: regex!=2019.12.17 in c:\\users\\kunal\\appdata\\local\\programs\\python\\python310\\lib\\site-packages (from transformers) (2023.12.25)\n",
      "Requirement already satisfied: requests in c:\\tools\\manim\\lib\\site-packages (from transformers) (2.28.1)\n",
      "Requirement already satisfied: tokenizers<0.19,>=0.14 in c:\\users\\kunal\\appdata\\local\\programs\\python\\python310\\lib\\site-packages (from transformers) (0.15.0)\n",
      "Requirement already satisfied: safetensors>=0.4.1 in c:\\users\\kunal\\appdata\\local\\programs\\python\\python310\\lib\\site-packages (from transformers) (0.4.1)\n",
      "Requirement already satisfied: tqdm>=4.27 in c:\\tools\\manim\\lib\\site-packages (from transformers) (4.64.0)\n",
      "Requirement already satisfied: pyarrow>=12.0.0 in c:\\users\\kunal\\appdata\\local\\programs\\python\\python310\\lib\\site-packages (from datasets) (14.0.2)\n",
      "Requirement already satisfied: pyarrow-hotfix in c:\\users\\kunal\\appdata\\local\\programs\\python\\python310\\lib\\site-packages (from datasets) (0.6)\n",
      "Requirement already satisfied: dill<0.3.9,>=0.3.0 in c:\\users\\kunal\\appdata\\local\\programs\\python\\python310\\lib\\site-packages (from datasets) (0.3.8)\n",
      "Requirement already satisfied: pandas in c:\\users\\kunal\\appdata\\local\\programs\\python\\python310\\lib\\site-packages (from datasets) (2.0.2)\n",
      "Requirement already satisfied: xxhash in c:\\users\\kunal\\appdata\\local\\programs\\python\\python310\\lib\\site-packages (from datasets) (3.4.1)\n",
      "Requirement already satisfied: multiprocess in c:\\users\\kunal\\appdata\\local\\programs\\python\\python310\\lib\\site-packages (from datasets) (0.70.16)\n",
      "Requirement already satisfied: fsspec<=2024.2.0,>=2023.1.0 in c:\\users\\kunal\\appdata\\local\\programs\\python\\python310\\lib\\site-packages (from fsspec[http]<=2024.2.0,>=2023.1.0->datasets) (2023.12.2)\n",
      "Requirement already satisfied: aiohttp in c:\\users\\kunal\\appdata\\local\\programs\\python\\python310\\lib\\site-packages (from datasets) (3.9.1)\n",
      "Requirement already satisfied: psutil in c:\\users\\kunal\\appdata\\local\\programs\\python\\python310\\lib\\site-packages (from accelerate) (5.9.5)\n",
      "Requirement already satisfied: torch>=1.10.0 in c:\\users\\kunal\\appdata\\local\\programs\\python\\python310\\lib\\site-packages (from accelerate) (2.1.2)\n",
      "Requirement already satisfied: attrs>=17.3.0 in c:\\users\\kunal\\appdata\\local\\programs\\python\\python310\\lib\\site-packages (from aiohttp->datasets) (23.1.0)\n",
      "Requirement already satisfied: multidict<7.0,>=4.5 in c:\\users\\kunal\\appdata\\local\\programs\\python\\python310\\lib\\site-packages (from aiohttp->datasets) (6.0.4)\n",
      "Requirement already satisfied: yarl<2.0,>=1.0 in c:\\users\\kunal\\appdata\\local\\programs\\python\\python310\\lib\\site-packages (from aiohttp->datasets) (1.9.4)\n",
      "Requirement already satisfied: frozenlist>=1.1.1 in c:\\users\\kunal\\appdata\\local\\programs\\python\\python310\\lib\\site-packages (from aiohttp->datasets) (1.4.1)\n",
      "Requirement already satisfied: aiosignal>=1.1.2 in c:\\users\\kunal\\appdata\\local\\programs\\python\\python310\\lib\\site-packages (from aiohttp->datasets) (1.3.1)\n",
      "Requirement already satisfied: async-timeout<5.0,>=4.0 in c:\\users\\kunal\\appdata\\local\\programs\\python\\python310\\lib\\site-packages (from aiohttp->datasets) (4.0.3)\n",
      "Requirement already satisfied: typing-extensions>=3.7.4.3 in c:\\users\\kunal\\appdata\\local\\programs\\python\\python310\\lib\\site-packages (from huggingface-hub<1.0,>=0.19.3->transformers) (4.11.0)\n",
      "Requirement already satisfied: charset-normalizer<3,>=2 in c:\\tools\\manim\\lib\\site-packages (from requests->transformers) (2.1.0)\n",
      "Requirement already satisfied: idna<4,>=2.5 in c:\\tools\\manim\\lib\\site-packages (from requests->transformers) (3.3)\n",
      "Requirement already satisfied: urllib3<1.27,>=1.21.1 in c:\\tools\\manim\\lib\\site-packages (from requests->transformers) (1.26.11)\n",
      "Requirement already satisfied: certifi>=2017.4.17 in c:\\tools\\manim\\lib\\site-packages (from requests->transformers) (2022.6.15)\n",
      "Requirement already satisfied: sympy in c:\\users\\kunal\\appdata\\local\\programs\\python\\python310\\lib\\site-packages (from torch>=1.10.0->accelerate) (1.10.1)\n",
      "Requirement already satisfied: networkx in c:\\tools\\manim\\lib\\site-packages (from torch>=1.10.0->accelerate) (2.8.5)\n",
      "Requirement already satisfied: jinja2 in c:\\users\\kunal\\appdata\\local\\programs\\python\\python310\\lib\\site-packages (from torch>=1.10.0->accelerate) (3.1.2)\n",
      "Requirement already satisfied: colorama in c:\\users\\kunal\\appdata\\local\\programs\\python\\python310\\lib\\site-packages (from tqdm>=4.27->transformers) (0.4.6)\n",
      "Requirement already satisfied: python-dateutil>=2.8.2 in c:\\users\\kunal\\appdata\\local\\programs\\python\\python310\\lib\\site-packages (from pandas->datasets) (2.8.2)\n",
      "Requirement already satisfied: pytz>=2020.1 in c:\\users\\kunal\\appdata\\local\\programs\\python\\python310\\lib\\site-packages (from pandas->datasets) (2023.3)\n",
      "Requirement already satisfied: tzdata>=2022.1 in c:\\users\\kunal\\appdata\\local\\programs\\python\\python310\\lib\\site-packages (from pandas->datasets) (2023.3)\n",
      "Requirement already satisfied: six>=1.5 in c:\\tools\\manim\\lib\\site-packages (from python-dateutil>=2.8.2->pandas->datasets) (1.16.0)\n",
      "Requirement already satisfied: MarkupSafe>=2.0 in c:\\users\\kunal\\appdata\\local\\programs\\python\\python310\\lib\\site-packages (from jinja2->torch>=1.10.0->accelerate) (2.1.1)\n",
      "Requirement already satisfied: mpmath>=0.19 in c:\\users\\kunal\\appdata\\local\\programs\\python\\python310\\lib\\site-packages (from sympy->torch>=1.10.0->accelerate) (1.2.1)\n"
     ]
    }
   ],
   "source": [
    "! pip install transformers datasets accelerate evaluate"
   ]
  },
  {
   "cell_type": "code",
   "execution_count": 2,
   "id": "a391e081",
   "metadata": {},
   "outputs": [],
   "source": [
    "import torch\n",
    "\n",
    "class Config:\n",
    "  DATASET_ID = \"emad12/stock_tweets_sentiment\"\n",
    "  MODEL_CKPT = \"bert-base-uncased\"\n",
    "  SRC_COLUMN = \"tweet\"\n",
    "  TGT_COLUMN = \"sentiment\"\n",
    "  TEST_SIZE = 0.2 # 2%\n",
    "  SEED = 0\n",
    "  MAX_LENGTH = 32\n",
    "  EVAL_METRIC = \"accuracy\"\n",
    "  MODEL_OUT_DIR = \"distilbert-stock-tweet-sentiment-analysis\"\n",
    "  LR = 2E-5\n",
    "  BATCH_SIZE = 16\n",
    "  WEIGHT_DECAY = 0.01\n",
    "  EVAL_STRATEGY = \"epoch\"\n",
    "  SAVE_STRATEGY = \"epoch\"\n",
    "  LOGGING_STRATEGY = \"epoch\"\n",
    "  PUSH_TO_HUB = True\n",
    "  NUM_TRAIN_EPOCHS = 3\n",
    "\n",
    "  # CUDA : Compute Unified Device Architecture\n",
    "  # If the PC has a nvidia graphic card, we can use cuda\n",
    "  # which is way faster than cpu\n",
    "\n",
    "  DEVICE = \"cuda\" if torch.cuda.is_available() else \"cpu\"\n",
    "\n",
    "  ID2LABEL = {\n",
    "      0 : \"NEUTRAL\",\n",
    "      1 : \"POSITIVE\",\n",
    "      2 : \"NEGATIVE\"\n",
    "  }\n",
    "\n",
    "  LABEL2ID = {\n",
    "      \"NEUTRAL\" : 0,\n",
    "      \"POSITIVE\" : 1,\n",
    "      \"NEGATIVE\" : 2\n",
    "  }\n",
    "\n",
    "\n",
    "\n",
    "config = Config()"
   ]
  },
  {
   "cell_type": "code",
   "execution_count": 3,
   "id": "3e2e522d",
   "metadata": {},
   "outputs": [
    {
     "name": "stderr",
     "output_type": "stream",
     "text": [
      "The installed version of bitsandbytes was compiled without GPU support. 8-bit optimizers, 8-bit multiplication, and GPU quantization are unavailable.\n"
     ]
    }
   ],
   "source": [
    "from transformers import AutoTokenizer, AutoModelForSequenceClassification, Trainer, TrainingArguments, DataCollatorWithPadding\n",
    "from datasets import Dataset,load_dataset\n",
    "import pandas as pd\n",
    "from sklearn.model_selection import train_test_split\n",
    "import torch"
   ]
  },
  {
   "cell_type": "code",
   "execution_count": 15,
   "id": "8db674cb",
   "metadata": {},
   "outputs": [],
   "source": [
    "class TextClassificationDataset:\n",
    "\n",
    "  def __init__(self):\n",
    "    self.dataset_id = config.DATASET_ID\n",
    "    self.model_ckpt = config.MODEL_CKPT\n",
    "    self.tokenizer = AutoTokenizer.from_pretrained(self.model_ckpt)\n",
    "    self.src_column = config.SRC_COLUMN\n",
    "    self.tgt_column = config.TGT_COLUMN\n",
    "    self.seed = config.SEED\n",
    "    self.test_size = config.TEST_SIZE\n",
    "    self.max_length = config.MAX_LENGTH\n",
    "\n",
    "  def create_data(self):\n",
    "    self.data = load_dataset(self.dataset_id,split=\"train\")\n",
    "    self.df = self.data.to_pandas()\n",
    "    self.df = self.df[[self.src_column,self.tgt_column]]\n",
    "\n",
    "    # Target column contains these 3 numbers -1,0,1\n",
    "    # Usually we try and avoid negative values to feed in the model, hence we change that\n",
    "    self.df[self.tgt_column] = self.df[self.tgt_column].apply(lambda x: 2 if x==-1 else x)\n",
    "\n",
    "    # Although the model that we are using here is 'uncased' meaning all are lowercase\n",
    "    # But writing the below code for general case\n",
    "    # We need to lower the case of the dataset in order to reduce the variations and\n",
    "    # make the model more consistent\n",
    "    self.df[self.src_column] = self.df[self.src_column].apply(lambda x: x.lower())\n",
    "\n",
    "    # Sampling the data for now, we can change later\n",
    "    self.df = self.df.sample(40000)\n",
    "\n",
    "    self.train_df, self.test_df = train_test_split(\n",
    "        self.df,\n",
    "        test_size = self.test_size,\n",
    "        shuffle = True,\n",
    "        random_state=self.seed,\n",
    "        stratify=self.df[self.tgt_column ]\n",
    "    )\n",
    "\n",
    "    # Converting the pandas dataframe to huggingface dataframe\n",
    "\n",
    "    self.train_data = Dataset.from_pandas(self.train_df)\n",
    "    self.test_data = Dataset.from_pandas(self.test_df)\n",
    "\n",
    "    return self.train_data,self.test_data\n",
    "\n",
    "  def tokenize_function(self,example):\n",
    "\n",
    "    # The below line will add a \"input_ids\" and \"attention_mask\" column\n",
    "    model_input = self.tokenizer(example[self.src_column],padding=True,truncation=True,max_length=self.max_length)\n",
    "    labels = torch.tensor(example[self.tgt_column], dtype=torch.int)\n",
    "\n",
    "    # Adding a \"labels\" column\n",
    "    model_input[\"labels\"] = labels\n",
    "\n",
    "    return model_input\n",
    "\n",
    "  def preprocess_function(self,data):\n",
    "    # The data column names are src_column and tgt_column\n",
    "    # Those will be removed and will only be left with\n",
    "    # \"input_ids\", \"attention_mask\" and \"labels\" as columns in the dataset\n",
    "\n",
    "    model_input = data.map(self.tokenize_function,batched=True,remove_columns=data.column_names)\n",
    "    return model_input\n",
    "\n",
    "  def generate_dataset(self):\n",
    "    train_data, test_data = self.create_data()\n",
    "    train_tokenized_data = self.preprocess_function(train_data)\n",
    "    test_tokenized_data = self.preprocess_function(test_data)\n",
    "\n",
    "    return train_tokenized_data, test_tokenized_data"
   ]
  },
  {
   "cell_type": "code",
   "execution_count": 11,
   "id": "e13ea2f6",
   "metadata": {},
   "outputs": [],
   "source": [
    "import evaluate\n",
    "import numpy as np\n",
    "\n",
    "class TextClassificationTrainer:\n",
    "  def __init__(self,train_data,test_data):\n",
    "    self.train_data = train_data\n",
    "    self.test_data = test_data\n",
    "    self.model_ckpt = config.MODEL_CKPT\n",
    "\n",
    "    self.id2label = config.ID2LABEL\n",
    "    self.label2id = config.LABEL2ID\n",
    "    self.num_labels = len(self.id2label)\n",
    "\n",
    "    self.device = config.DEVICE\n",
    "    self.eval_metric = config.EVAL_METRIC\n",
    "\n",
    "    self.model_out_dir = config.MODEL_OUT_DIR\n",
    "    self.lr = config.LR\n",
    "    self.batch_size = config.BATCH_SIZE\n",
    "    self.weight_decay = config.WEIGHT_DECAY\n",
    "\n",
    "    self.eval_strategy = config.EVAL_STRATEGY\n",
    "    self.save_strategy = config.SAVE_STRATEGY\n",
    "    self.logging_strategy = config.LOGGING_STRATEGY\n",
    "    self.push_to_hub = config.PUSH_TO_HUB\n",
    "    self.num_train_epochs = config.NUM_TRAIN_EPOCHS\n",
    "\n",
    "    self.model = AutoModelForSequenceClassification.from_pretrained(\n",
    "        self.model_ckpt,\n",
    "        id2label=self.id2label,\n",
    "        label2id=self.label2id,\n",
    "        num_labels=self.num_labels\n",
    "      ).to(self.device)\n",
    "\n",
    "    self.tokenizer = AutoTokenizer.from_pretrained(self.model_ckpt)\n",
    "    self.eval_metric_computer = evaluate.load(self.eval_metric)\n",
    "    self.data_collator = DataCollatorWithPadding(self.tokenizer)\n",
    "\n",
    "  def compute_metrics(self,eval_pred):\n",
    "\n",
    "    predictions, labels = eval_pred\n",
    "    predictions = np.argmax(predictions,axis=1)\n",
    "\n",
    "    return self.accuracy.compute(predictions=predictions,references=labels)\n",
    "\n",
    "  def set_training_args(self):\n",
    "    return TrainingArguments(\n",
    "        output_dir = self.model_out_dir,\n",
    "        learning_rate = self.lr,\n",
    "        per_device_train_batch_size = self.batch_size,\n",
    "        per_device_eval_batch_size = self.batch_size,\n",
    "        weight_decay = self.weight_decay,\n",
    "        save_strategy = self.save_strategy,\n",
    "        logging_strategy = self.logging_strategy,\n",
    "        push_to_hub = self.push_to_hub,\n",
    "        num_train_epochs = self.num_train_epochs\n",
    "    )\n",
    "\n",
    "  def model_trainer(self):\n",
    "    return Trainer(\n",
    "        model = self.model,\n",
    "        args = self.set_training_args(),\n",
    "        data_collator = self.data_collator,\n",
    "        train_dataset = self.train_data,\n",
    "        eval_dataset = self.test_data,\n",
    "        compute_metrics = self.compute_metrics\n",
    "    )\n",
    "\n",
    "  def train_and_save_and_push_to_hub(self):\n",
    "    trainer = self.model_trainer()\n",
    "    trainer.train()\n",
    "    trainer.push_to_hub()"
   ]
  },
  {
   "cell_type": "code",
   "execution_count": 5,
   "id": "5a5c81d0",
   "metadata": {},
   "outputs": [
    {
     "data": {
      "application/vnd.jupyter.widget-view+json": {
       "model_id": "6a742c334cbd40e7983500c5dfd1455d",
       "version_major": 2,
       "version_minor": 0
      },
      "text/plain": [
       "VBox(children=(HTML(value='<center> <img\\nsrc=https://huggingface.co/front/assets/huggingface_logo-noborder.sv…"
      ]
     },
     "metadata": {},
     "output_type": "display_data"
    }
   ],
   "source": [
    "from huggingface_hub import notebook_login\n",
    "notebook_login()"
   ]
  },
  {
   "cell_type": "code",
   "execution_count": 16,
   "id": "2bd5e7db",
   "metadata": {},
   "outputs": [
    {
     "data": {
      "application/json": {
       "ascii": false,
       "bar_format": null,
       "colour": null,
       "elapsed": 0.0041086673736572266,
       "initial": 0,
       "n": 0,
       "ncols": null,
       "nrows": 29,
       "postfix": null,
       "prefix": "Map",
       "rate": null,
       "total": 32000,
       "unit": " examples",
       "unit_divisor": 1000,
       "unit_scale": false
      },
      "application/vnd.jupyter.widget-view+json": {
       "model_id": "261959a4f22049b492c714dec53da72a",
       "version_major": 2,
       "version_minor": 0
      },
      "text/plain": [
       "Map:   0%|          | 0/32000 [00:00<?, ? examples/s]"
      ]
     },
     "metadata": {},
     "output_type": "display_data"
    },
    {
     "data": {
      "application/json": {
       "ascii": false,
       "bar_format": null,
       "colour": null,
       "elapsed": 0.003839731216430664,
       "initial": 0,
       "n": 0,
       "ncols": null,
       "nrows": 29,
       "postfix": null,
       "prefix": "Map",
       "rate": null,
       "total": 8000,
       "unit": " examples",
       "unit_divisor": 1000,
       "unit_scale": false
      },
      "application/vnd.jupyter.widget-view+json": {
       "model_id": "e48d77d21beb474982bcd6010a197c9f",
       "version_major": 2,
       "version_minor": 0
      },
      "text/plain": [
       "Map:   0%|          | 0/8000 [00:00<?, ? examples/s]"
      ]
     },
     "metadata": {},
     "output_type": "display_data"
    },
    {
     "name": "stderr",
     "output_type": "stream",
     "text": [
      "Some weights of BertForSequenceClassification were not initialized from the model checkpoint at bert-base-uncased and are newly initialized: ['classifier.bias', 'classifier.weight']\n",
      "You should probably TRAIN this model on a down-stream task to be able to use it for predictions and inference.\n",
      "C:\\Users\\kunal\\AppData\\Local\\Programs\\Python\\Python310\\lib\\site-packages\\accelerate\\accelerator.py:446: FutureWarning: Passing the following arguments to `Accelerator` is deprecated and will be removed in version 1.0 of Accelerate: dict_keys(['dispatch_batches', 'split_batches', 'even_batches', 'use_seedable_sampler']). Please pass an `accelerate.DataLoaderConfiguration` instead: \n",
      "dataloader_config = DataLoaderConfiguration(dispatch_batches=None, split_batches=False, even_batches=True, use_seedable_sampler=True)\n",
      "  warnings.warn(\n"
     ]
    },
    {
     "data": {
      "text/html": [
       "\n",
       "    <div>\n",
       "      \n",
       "      <progress value='6000' max='6000' style='width:300px; height:20px; vertical-align: middle;'></progress>\n",
       "      [6000/6000 6:28:20, Epoch 3/3]\n",
       "    </div>\n",
       "    <table border=\"1\" class=\"dataframe\">\n",
       "  <thead>\n",
       " <tr style=\"text-align: left;\">\n",
       "      <th>Step</th>\n",
       "      <th>Training Loss</th>\n",
       "    </tr>\n",
       "  </thead>\n",
       "  <tbody>\n",
       "    <tr>\n",
       "      <td>2000</td>\n",
       "      <td>0.636200</td>\n",
       "    </tr>\n",
       "    <tr>\n",
       "      <td>4000</td>\n",
       "      <td>0.422700</td>\n",
       "    </tr>\n",
       "    <tr>\n",
       "      <td>6000</td>\n",
       "      <td>0.300200</td>\n",
       "    </tr>\n",
       "  </tbody>\n",
       "</table><p>"
      ],
      "text/plain": [
       "<IPython.core.display.HTML object>"
      ]
     },
     "metadata": {},
     "output_type": "display_data"
    },
    {
     "name": "stdout",
     "output_type": "stream",
     "text": [
      "Finished training and pushed to hub.\n"
     ]
    }
   ],
   "source": [
    "if __name__==\"__main__\":\n",
    "  textclassificationdataset = TextClassificationDataset()\n",
    "  train_data, test_data = textclassificationdataset.generate_dataset()\n",
    "\n",
    "  textclassificationtrainer = TextClassificationTrainer(train_data,test_data)\n",
    "  textclassificationtrainer.train_and_save_and_push_to_hub()\n",
    "  \n",
    "  print(\"Finished training and pushed to hub.\")"
   ]
  },
  {
   "cell_type": "code",
   "execution_count": 19,
   "id": "40217644",
   "metadata": {},
   "outputs": [
    {
     "data": {
      "text/plain": [
       "[{'label': 'POSITIVE', 'score': 0.9967382550239563}]"
      ]
     },
     "execution_count": 19,
     "metadata": {},
     "output_type": "execute_result"
    }
   ],
   "source": [
    "from transformers import pipeline\n",
    "\n",
    "classifier = pipeline(\"sentiment-analysis\",model = config.MODEL_OUT_DIR,tokenizer=\"distilbert-base-uncased\")\n",
    "text = \"have a great weekend everyone will be back to full schedule next week spy aapl baba\"\n",
    "\n",
    "classifier(text)"
   ]
  },
  {
   "cell_type": "code",
   "execution_count": null,
   "id": "b5d7e0aa",
   "metadata": {},
   "outputs": [],
   "source": []
  },
  {
   "cell_type": "code",
   "execution_count": null,
   "id": "c3f431fe",
   "metadata": {},
   "outputs": [],
   "source": []
  }
 ],
 "metadata": {
  "kernelspec": {
   "display_name": "Python 3 (ipykernel)",
   "language": "python",
   "name": "python3"
  },
  "language_info": {
   "codemirror_mode": {
    "name": "ipython",
    "version": 3
   },
   "file_extension": ".py",
   "mimetype": "text/x-python",
   "name": "python",
   "nbconvert_exporter": "python",
   "pygments_lexer": "ipython3",
   "version": "3.10.6"
  }
 },
 "nbformat": 4,
 "nbformat_minor": 5
}
